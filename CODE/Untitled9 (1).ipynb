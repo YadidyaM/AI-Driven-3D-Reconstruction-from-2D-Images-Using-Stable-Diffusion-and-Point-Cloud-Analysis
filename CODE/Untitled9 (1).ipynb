{
  "nbformat": 4,
  "nbformat_minor": 0,
  "metadata": {
    "colab": {
      "provenance": [],
      "gpuType": "T4"
    },
    "kernelspec": {
      "name": "python3",
      "display_name": "Python 3"
    },
    "language_info": {
      "name": "python"
    },
    "accelerator": "GPU"
  },
  "cells": [
    {
      "cell_type": "code",
      "execution_count": null,
      "metadata": {
        "id": "QHPzJhj528px"
      },
      "outputs": [],
      "source": [
        "import matplotlib\n",
        "matplotlib.use('Agg')\n",
        "from matplotlib import pyplot as plt\n",
        "from PIL import Image\n",
        "import numpy as np\n",
        "import torch\n",
        "from transformers import GLPNImageProcessor, GLPNForDepthEstimation"
      ]
    },
    {
      "cell_type": "code",
      "source": [
        "feature_extractor = GLPNImageProcessor.from_pretrained(\"vinvino02/glpn-nyu\")\n",
        "model = GLPNForDepthEstimation.from_pretrained(\"vinvino02/glpn-nyu\")"
      ],
      "metadata": {
        "colab": {
          "base_uri": "https://localhost:8080/"
        },
        "id": "sjvOb1rb3W35",
        "outputId": "b4c9cf90-c935-4c8b-b41d-8f2311f8b027"
      },
      "execution_count": null,
      "outputs": [
        {
          "output_type": "stream",
          "name": "stderr",
          "text": [
            "/usr/local/lib/python3.10/dist-packages/huggingface_hub/utils/_token.py:89: UserWarning: \n",
            "The secret `HF_TOKEN` does not exist in your Colab secrets.\n",
            "To authenticate with the Hugging Face Hub, create a token in your settings tab (https://huggingface.co/settings/tokens), set it as secret in your Google Colab and restart your session.\n",
            "You will be able to reuse this secret in all of your notebooks.\n",
            "Please note that authentication is recommended but still optional to access public models or datasets.\n",
            "  warnings.warn(\n"
          ]
        }
      ]
    },
    {
      "cell_type": "code",
      "source": [
        "image = Image.open(\"/content/783848_Toyoto company in UK _xl-1024-v1-0.png\").convert(\"RGB\")\n",
        "new_height = 480 if image.height > 480 else image.height\n",
        "new_height = new_height - (new_height % 32)\n",
        "new_width = int(image.width * new_height / image.height)\n",
        "diff = new_width % 32\n",
        "\n",
        "new_width = new_width - diff if diff < 16 else new_width + 32 - diff\n",
        "new_size = (new_width, new_height)\n",
        "image = image.resize(new_size)"
      ],
      "metadata": {
        "id": "QkKTg1tN3XTh"
      },
      "execution_count": null,
      "outputs": []
    },
    {
      "cell_type": "code",
      "source": [
        "inputs = feature_extractor(images=image, return_tensors=\"pt\")"
      ],
      "metadata": {
        "id": "GCHqAeWe3Xag"
      },
      "execution_count": null,
      "outputs": []
    },
    {
      "cell_type": "code",
      "source": [
        "with torch.no_grad():\n",
        "    outputs = model(**inputs)\n",
        "    predicted_depth = outputs.predicted_depth"
      ],
      "metadata": {
        "id": "mRjZEsF83Xie"
      },
      "execution_count": null,
      "outputs": []
    },
    {
      "cell_type": "code",
      "source": [
        "import matplotlib.pyplot as plt\n",
        "import numpy as np\n",
        "from PIL import Image\n",
        "\n",
        "pad = 16\n",
        "output = predicted_depth.squeeze().cpu().numpy() * 1000.0\n",
        "output = output[pad:-pad, pad:-pad]\n",
        "image = image.crop((pad, pad, image.width - pad, image.height - pad))\n",
        "\n",
        "fig, ax = plt.subplots(1, 2)\n",
        "\n",
        "ax[0].imshow(image)\n",
        "ax[0].tick_params(\n",
        "    bottom=False,\n",
        "    labelbottom=False,\n",
        "    left=False,\n",
        "    labelleft=False,\n",
        ")\n",
        "\n",
        "ax[1].imshow(output, cmap=\"plasma\")\n",
        "ax[1].tick_params(\n",
        "    bottom=False,\n",
        "    labelbottom=False,\n",
        "    left=False,\n",
        "    labelleft=False,\n",
        ")\n",
        "\n",
        "plt.tight_layout()\n",
        "plt.pause(5)"
      ],
      "metadata": {
        "id": "OlyDsWpO3XsU"
      },
      "execution_count": null,
      "outputs": []
    },
    {
      "cell_type": "code",
      "source": [
        "import numpy as np\n",
        "import open3d as o3d"
      ],
      "metadata": {
        "id": "UNcX-Mjg6cjh"
      },
      "execution_count": null,
      "outputs": []
    },
    {
      "source": [
        "import numpy as np\n",
        "import open3d as o3d\n",
        "\n",
        "width, height = image.size\n",
        "depth_image = (output * 255 / np.max(output)).astype(\"uint8\")\n",
        "image_np = np.array(image)\n",
        "\n",
        "depth_o3d = o3d.geometry.Image(depth_image)\n",
        "image_o3d = o3d.geometry.Image(np.array(image))\n",
        "rgbd_image = o3d.geometry.RGBDImage.create_from_color_and_depth(\n",
        "    image_o3d, depth_o3d, convert_rgb_to_intensity=False)"
      ],
      "cell_type": "code",
      "metadata": {
        "id": "0g4K8LTkF5ah"
      },
      "execution_count": null,
      "outputs": []
    },
    {
      "cell_type": "code",
      "source": [
        "camera_intrinsic = o3d.camera.PinholeCameraIntrinsic()\n",
        "camera_intrinsic.set_intrinsics(width, height, 500, 500, width / 2, height / 2)"
      ],
      "metadata": {
        "id": "eydMUcGRF8XU"
      },
      "execution_count": null,
      "outputs": []
    },
    {
      "cell_type": "code",
      "source": [
        "pcd = o3d.geometry.PointCloud.create_from_rgbd_image(rgbd_image, camera_intrinsic)\n",
        "o3d.io.write_point_cloud(\"point_cloud.ply\", pcd)"
      ],
      "metadata": {
        "colab": {
          "base_uri": "https://localhost:8080/"
        },
        "id": "5KX1N0S9GJ-9",
        "outputId": "43250ce8-de5d-49ec-825b-ea9ac69b8776"
      },
      "execution_count": null,
      "outputs": [
        {
          "output_type": "execute_result",
          "data": {
            "text/plain": [
              "True"
            ]
          },
          "metadata": {},
          "execution_count": 11
        }
      ]
    },
    {
      "source": [
        "cl, ind = pcd.remove_statistical_outlier(nb_neighbors=20, std_ratio=6.0)\n",
        "pcd = pcd.select_by_index(ind)\n",
        "pcd.estimate_normals()\n",
        "pcd.orient_normals_to_align_with_direction()\n",
        "o3d.io.write_point_cloud(\"cleaned_point_cloud.ply\", pcd)\n",
        "\n",
        "print(\"Point cloud saved as cleaned_point_cloud.ply\")\n",
        "pcd = o3d.io.read_point_cloud(\"/content/point_cloud.ply\")\n",
        "\n",
        "distance_threshold = 5.0\n",
        "\n",
        "points = np.asarray(pcd.points)\n",
        "distances = np.linalg.norm(points, axis=1)\n",
        "\n",
        "indices = np.where(distances < distance_threshold)[0]\n",
        "pcd = pcd.select_by_index(indices)\n",
        "\n",
        "pcd.estimate_normals()\n",
        "pcd.orient_normals_consistent_tangent_plane(30)\n",
        "mesh = o3d.geometry.TriangleMesh.create_from_point_cloud_ball_pivoting(\n",
        "    pcd, o3d.utility.DoubleVector([0.05, 0.1, 0.2]))\n",
        "\n",
        "o3d.io.write_triangle_mesh(\"output_mesh_without_background.ply\", mesh)\n",
        "\n",
        "o3d.visualization.draw_geometries([mesh])\n",
        "\n"
      ],
      "cell_type": "code",
      "metadata": {
        "colab": {
          "base_uri": "https://localhost:8080/"
        },
        "id": "v2zwjyXHNd0v",
        "outputId": "22029cdf-17fa-4cba-b80b-31fbe13980d1"
      },
      "execution_count": null,
      "outputs": [
        {
          "output_type": "stream",
          "name": "stdout",
          "text": [
            "Point cloud saved as cleaned_point_cloud.ply\n"
          ]
        }
      ]
    },
    {
      "source": [
        "mesh = o3d.geometry.TriangleMesh.create_from_point_cloud_poisson(pcd, depth=10, n_threads=1)[0]\n",
        "rotation = mesh.get_rotation_matrix_from_xyz((np.pi, 0, 0))\n",
        "mesh.rotate(rotation, center=(0, 0, 0))\n",
        "\n",
        "o3d.visualization.draw_geometries([mesh], mesh_show_back_face=True)\n",
        "\n",
        "mesh_uniform = mesh.paint_uniform_color([0.9, 0.8, 0.9])\n",
        "mesh_uniform.compute_vertex_normals()\n",
        "o3d.visualization.draw_geometries([mesh_uniform], mesh_show_back_face=True)"
      ],
      "cell_type": "code",
      "metadata": {
        "colab": {
          "base_uri": "https://localhost:8080/"
        },
        "id": "keCNOr04Qyc9",
        "outputId": "603cecb6-1a1d-4984-e3b8-cd2ed20db1a1"
      },
      "execution_count": null,
      "outputs": [
        {
          "output_type": "stream",
          "name": "stdout",
          "text": [
            "\u001b[1;33m[Open3D WARNING] GLFW Error: X11: The DISPLAY environment variable is missing\u001b[0;m\n",
            "\u001b[1;33m[Open3D WARNING] Failed to initialize GLFW\u001b[0;m\n",
            "\u001b[1;33m[Open3D WARNING] [DrawGeometries] Failed creating OpenGL window.\u001b[0;m\n",
            "\u001b[1;33m[Open3D WARNING] GLFW Error: X11: The DISPLAY environment variable is missing\u001b[0;m\n",
            "\u001b[1;33m[Open3D WARNING] Failed to initialize GLFW\u001b[0;m\n",
            "\u001b[1;33m[Open3D WARNING] [DrawGeometries] Failed creating OpenGL window.\u001b[0;m\n"
          ]
        }
      ]
    },
    {
      "cell_type": "code",
      "source": [
        "o3d.io.write_triangle_mesh(\"mesh.obj\", mesh_uniform)"
      ],
      "metadata": {
        "id": "77zUxJKQRb2L"
      },
      "execution_count": null,
      "outputs": []
    }
  ]
}